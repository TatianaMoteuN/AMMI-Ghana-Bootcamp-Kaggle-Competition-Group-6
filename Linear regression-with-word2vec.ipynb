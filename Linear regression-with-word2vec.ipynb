{
 "cells": [
  {
   "cell_type": "code",
   "execution_count": null,
   "metadata": {},
   "outputs": [],
   "source": [
    "# Load libraries\n",
    "import pandas as pd\n",
    "from sklearn.linear_model import LinearRegression\n",
    "from sklearn.model_selection import train_test_split # Import train_test_split function\n",
    "import numpy as np\n",
    "import gensim\n",
    "from scipy.sparse import hstack\n",
    "import utils\n",
    "\n",
    "\n",
    "w2v_model = gensim.models.word2vec.Word2Vec.load(\"data/updated_google_corpus\")"
   ]
  },
  {
   "cell_type": "code",
   "execution_count": null,
   "metadata": {},
   "outputs": [],
   "source": [
    "TESTING_MODE = False\n",
    "data = utils.load_data(\"./data/train.csv\",is_train= TESTING_MODE)\n",
    "print(\"Loaded {0} examples with {1} columns\".format(data.shape[0],data.shape[1]))"
   ]
  },
  {
   "cell_type": "code",
   "execution_count": null,
   "metadata": {
    "scrolled": true
   },
   "outputs": [],
   "source": [
    "data.describe()"
   ]
  },
  {
   "cell_type": "code",
   "execution_count": null,
   "metadata": {},
   "outputs": [],
   "source": [
    "data.info()"
   ]
  },
  {
   "cell_type": "code",
   "execution_count": null,
   "metadata": {},
   "outputs": [],
   "source": [
    "one_hot_encoding = utils.one_hot_encoding(data,[\"country\",\"region_1\",\"region_2\",\"province\",\"taster_name\",\"variety\"])"
   ]
  },
  {
   "cell_type": "code",
   "execution_count": null,
   "metadata": {},
   "outputs": [],
   "source": [
    "description_vecs = utils.text_to_embeddings(data[\"description\"], w2v_model=w2v_model)"
   ]
  },
  {
   "cell_type": "code",
   "execution_count": null,
   "metadata": {},
   "outputs": [],
   "source": [
    "X = hstack([description_vecs,one_hot_encoding,data[[\"points\"]]]).tocsr()\n",
    "y = data[\"price\"]\n",
    "if not TESTING_MODE:\n",
    "    X_test = X[175000:]\n",
    "    y_test = y[175000:]\n",
    "    X = X[:175000]\n",
    "    y = y[:175000]"
   ]
  },
  {
   "cell_type": "code",
   "execution_count": null,
   "metadata": {},
   "outputs": [],
   "source": [
    "# convert to <if True> if you want to search for the parameters\n",
    "if False:\n",
    "    params = {\n",
    "        \n",
    "    }\n",
    "\n",
    "    lr = LinearRegression()\n",
    "    grid_search = utils.train_grid_search(lr, X, y, params)\n",
    "    print(grid_search.best_estimator_)"
   ]
  },
  {
   "cell_type": "code",
   "execution_count": null,
   "metadata": {},
   "outputs": [],
   "source": [
    "%%time\n",
    "lr = LinearRegression()\n",
    "lr, scores = utils.train_kfold(lr, X, y)"
   ]
  },
  {
   "cell_type": "code",
   "execution_count": null,
   "metadata": {},
   "outputs": [],
   "source": [
    "if not TESTING_MODE:\n",
    "    ids = data[\"id\"][175000:]\n",
    "    y_pred = lr.predict(X_test)\n",
    "    # removing outliers\n",
    "    y_pred[y_pred>2500] = data[\"price\"].mean()\n",
    "    y_pred[y_pred<0]=data[\"price\"].mean()\n",
    "    result = pd.DataFrame()\n",
    "    result['id'] = ids\n",
    "    result[\"price\"] = y_pred\n",
    "    result.to_csv(\"data/out_lr.csv\",index=False)"
   ]
  },
  {
   "cell_type": "code",
   "execution_count": null,
   "metadata": {},
   "outputs": [],
   "source": []
  }
 ],
 "metadata": {
  "kernelspec": {
   "display_name": "Python 3",
   "language": "python",
   "name": "python3"
  },
  "language_info": {
   "codemirror_mode": {
    "name": "ipython",
    "version": 3
   },
   "file_extension": ".py",
   "mimetype": "text/x-python",
   "name": "python",
   "nbconvert_exporter": "python",
   "pygments_lexer": "ipython3",
   "version": "3.7.3"
  }
 },
 "nbformat": 4,
 "nbformat_minor": 2
}
