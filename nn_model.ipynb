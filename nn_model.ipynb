{
 "cells": [
  {
   "cell_type": "code",
   "execution_count": 3,
   "metadata": {},
   "outputs": [],
   "source": [
    "from keras.callbacks import ModelCheckpoint\n",
    "from keras.models import Sequential\n",
    "from keras.layers import Dense, Activation,Dropout\n",
    "from keras.callbacks import EarlyStopping\n",
    "from sklearn.model_selection import train_test_split\n",
    "from sklearn.metrics import mean_absolute_error \n",
    "from sklearn import metrics #Import scikit-learn metrics module for accuracy calculation\n",
    "\n",
    "import numpy as np\n",
    "import warnings \n",
    "import keras.backend as K\n",
    "warnings.filterwarnings('ignore')\n",
    "warnings.filterwarnings('ignore', category=DeprecationWarning)\n",
    "from xgboost import XGBRegressor\n",
    "import pandas as pd\n",
    "import gensim\n",
    "\n",
    "wv = gensim.models.word2vec.Word2Vec.load(\"updated_google_corpus\")\n",
    "\n",
    "TESTING_MODE = True\n",
    "\n",
    "# load dataset\n",
    "train_data = pd.read_csv(\"train.csv\")\n",
    "test_data = pd.read_csv(\"test.csv\")\n",
    "test_data = test_data.drop(\"index\",axis=1)\n",
    "data = pd.concat([train_data,test_data],sort=False)"
   ]
  },
  {
   "cell_type": "code",
   "execution_count": 4,
   "metadata": {},
   "outputs": [],
   "source": [
    "def root_mean_squared_error(y_true, y_pred):\n",
    "        return K.sqrt(K.mean(K.square(y_pred - y_true))) "
   ]
  },
  {
   "cell_type": "code",
   "execution_count": 5,
   "metadata": {},
   "outputs": [],
   "source": [
    "if TESTING_MODE:\n",
    "    d = pd.get_dummies(train_data[[\"country\",\"region_2\",\"province\",\"taster_name\",\"variety\"]])\n",
    "    d[\"points\"]= train_data[\"points\"]\n",
    "    d[\"id\"] = train_data['id']\n",
    "#     col_dic = dict()\n",
    "#     for column in ['country','province','region_2','taster_name','variety']:\n",
    "#         col_dic[column] = list(set(list(train_data[column].values)))\n",
    "\n",
    "#     num_data = pd.DataFrame() \n",
    "#     for column in col_dic.keys():\n",
    "#         num_data[column] = train_data[column].apply(lambda column_item:col_dic[column].index(column_item))\n",
    "#     # num_data[\"price\"] = train_data[\"price\"]\n",
    "#     num_data[\"points\"] = train_data[\"points\"]\n",
    "#     num_data[\"id\"] = train_data[\"id\"]\n",
    "#     num_data.head()\n",
    "else:\n",
    "#     col_dic = dict()\n",
    "#     for column in ['country','province','region_2','taster_name','variety']:\n",
    "#         col_dic[column] = list(set(list(data[column].values)))\n",
    "\n",
    "#     num_data = pd.DataFrame() \n",
    "#     for column in col_dic.keys():\n",
    "#         num_data[column] = data[column].apply(lambda column_item:col_dic[column].index(column_item))\n",
    "#     num_data[\"points\"] = data[\"points\"]\n",
    "#     num_data[\"id\"] = data[\"id\"]\n",
    "#     num_data.head()\n",
    "    d = pd.get_dummies(data[[\"country\",\"region_2\",\"province\",\"taster_name\",\"variety\"]])\n",
    "    d[\"points\"]= data[\"points\"]\n",
    "    d[\"id\"] = data['id']"
   ]
  },
  {
   "cell_type": "code",
   "execution_count": 6,
   "metadata": {},
   "outputs": [],
   "source": [
    "if TESTING_MODE:\n",
    "    description_vecs = train_data[\"description\"].apply(lambda words:sum([wv[word.lower()] for word in words.split()])*1/len(words.split()))\n",
    "    for i in range(300):\n",
    "        d[\"vec_dim_\"+str(i)]=description_vecs.apply(lambda v:v[i])\n",
    "else:\n",
    "    description_vecs = data[\"description\"].apply(lambda words:sum([wv[word.lower()] for word in words.split()])*1/len(words.split()))\n",
    "    for i in range(300):\n",
    "        d[\"vec_dim_\"+str(i)] = description_vecs.apply(lambda v:v[i])\n",
    "        \n",
    "        "
   ]
  },
  {
   "cell_type": "code",
   "execution_count": null,
   "metadata": {},
   "outputs": [],
   "source": []
  },
  {
   "cell_type": "code",
   "execution_count": 5,
   "metadata": {},
   "outputs": [],
   "source": [
    "if TESTING_MODE:\n",
    "    X_train, X_test, y_train, y_test = train_test_split(d, train_data[\"price\"], test_size=0.3, random_state=1) # 70% training and 30% test\n",
    "else:\n",
    "    X_train,y_train,X_test, y_test = d[:175000], data[\"price\"][:175000], d[175000:], data[\"price\"][175000:]\n",
    "    \n",
    "X_train = X_train.drop([\"id\"],axis=1)"
   ]
  },
  {
   "cell_type": "code",
   "execution_count": null,
   "metadata": {},
   "outputs": [],
   "source": []
  },
  {
   "cell_type": "code",
   "execution_count": 7,
   "metadata": {},
   "outputs": [],
   "source": [
    "model = Sequential()\n",
    "model.add(Dense(100, input_dim=X_train.shape[1]))\n",
    "model.add(Activation(\"sigmoid\"))\n",
    "model.add(Dropout(.5))\n",
    "model.add(Dense(256))\n",
    "model.add(Activation(\"sigmoid\"))\n",
    "model.add(Dropout(.5))\n",
    "model.add(Dense(32))\n",
    "model.add(Activation(\"sigmoid\"))\n",
    "model.add(Dropout(.5))\n",
    "model.add(Dense(1))\n",
    "model.add(Activation(\"relu\"))\n"
   ]
  },
  {
   "cell_type": "code",
   "execution_count": 8,
   "metadata": {},
   "outputs": [],
   "source": [
    "model.compile(optimizer='rmsprop',\n",
    "              loss=root_mean_squared_error,\n",
    "              metrics=['accuracy'])\n"
   ]
  },
  {
   "cell_type": "code",
   "execution_count": 9,
   "metadata": {},
   "outputs": [],
   "source": [
    "ids = X_test[\"id\"]\n",
    "X_test = X_test.drop([\"id\"],axis=1)"
   ]
  },
  {
   "cell_type": "code",
   "execution_count": 10,
   "metadata": {},
   "outputs": [],
   "source": [
    "callbacks = [EarlyStopping(monitor='val_loss', patience=5)]"
   ]
  },
  {
   "cell_type": "code",
   "execution_count": 11,
   "metadata": {
    "scrolled": true
   },
   "outputs": [
    {
     "name": "stdout",
     "output_type": "stream",
     "text": [
      "Train on 122500 samples, validate on 52500 samples\n",
      "Epoch 1/100\n",
      "122500/122500 [==============================] - 191s 2ms/step - loss: 30.5178 - accuracy: 0.0258 - val_loss: 26.0909 - val_accuracy: 0.0306\n",
      "Epoch 2/100\n",
      "122500/122500 [==============================] - 191s 2ms/step - loss: 25.9200 - accuracy: 0.0318 - val_loss: 26.1244 - val_accuracy: 0.0371\n",
      "Epoch 3/100\n",
      "122500/122500 [==============================] - 205s 2ms/step - loss: 25.2484 - accuracy: 0.0338 - val_loss: 26.9144 - val_accuracy: 0.0167\n",
      "Epoch 4/100\n",
      "122500/122500 [==============================] - 192s 2ms/step - loss: 24.9058 - accuracy: 0.0346 - val_loss: 23.8858 - val_accuracy: 0.0364\n",
      "Epoch 5/100\n",
      "122500/122500 [==============================] - 183s 1ms/step - loss: 24.4798 - accuracy: 0.0350 - val_loss: 25.3134 - val_accuracy: 0.0444\n",
      "Epoch 6/100\n",
      "122500/122500 [==============================] - 188s 2ms/step - loss: 24.3620 - accuracy: 0.0359 - val_loss: 23.4032 - val_accuracy: 0.0378\n",
      "Epoch 7/100\n",
      "122500/122500 [==============================] - 194s 2ms/step - loss: 24.1775 - accuracy: 0.0367 - val_loss: 23.3009 - val_accuracy: 0.0324\n",
      "Epoch 8/100\n",
      "122500/122500 [==============================] - 199s 2ms/step - loss: 24.0949 - accuracy: 0.0368 - val_loss: 23.0497 - val_accuracy: 0.0368\n",
      "Epoch 9/100\n",
      "122500/122500 [==============================] - 193s 2ms/step - loss: 23.9054 - accuracy: 0.0365 - val_loss: 23.5297 - val_accuracy: 0.0379\n",
      "Epoch 10/100\n",
      "122500/122500 [==============================] - 183s 1ms/step - loss: 23.7507 - accuracy: 0.0372 - val_loss: 22.9795 - val_accuracy: 0.0363\n",
      "Epoch 11/100\n",
      "122500/122500 [==============================] - 188s 2ms/step - loss: 23.6461 - accuracy: 0.0374 - val_loss: 23.0179 - val_accuracy: 0.0305\n",
      "Epoch 12/100\n",
      "122500/122500 [==============================] - 191s 2ms/step - loss: 23.5289 - accuracy: 0.0389 - val_loss: 23.5095 - val_accuracy: 0.0387\n",
      "Epoch 13/100\n",
      "122500/122500 [==============================] - 193s 2ms/step - loss: 23.5224 - accuracy: 0.0372 - val_loss: 25.2206 - val_accuracy: 0.0395\n",
      "Epoch 14/100\n",
      "122500/122500 [==============================] - 198s 2ms/step - loss: 23.3075 - accuracy: 0.0387 - val_loss: 23.4005 - val_accuracy: 0.0404\n",
      "Epoch 15/100\n",
      "122500/122500 [==============================] - 202s 2ms/step - loss: 23.2450 - accuracy: 0.0387 - val_loss: 22.6674 - val_accuracy: 0.0356\n",
      "Epoch 16/100\n",
      "122500/122500 [==============================] - 188s 2ms/step - loss: 23.2133 - accuracy: 0.0387 - val_loss: 22.6345 - val_accuracy: 0.0426\n",
      "Epoch 17/100\n",
      "122500/122500 [==============================] - 190s 2ms/step - loss: 23.1447 - accuracy: 0.0383 - val_loss: 24.0059 - val_accuracy: 0.0460\n",
      "Epoch 18/100\n",
      "122500/122500 [==============================] - 195s 2ms/step - loss: 23.0956 - accuracy: 0.0391 - val_loss: 22.9995 - val_accuracy: 0.0416\n",
      "Epoch 19/100\n",
      "122500/122500 [==============================] - 210s 2ms/step - loss: 23.0942 - accuracy: 0.0383 - val_loss: 22.4604 - val_accuracy: 0.0420\n",
      "Epoch 20/100\n",
      "122500/122500 [==============================] - 212s 2ms/step - loss: 22.9786 - accuracy: 0.0373 - val_loss: 23.7104 - val_accuracy: 0.0427\n",
      "Epoch 21/100\n",
      "122500/122500 [==============================] - 203s 2ms/step - loss: 22.8409 - accuracy: 0.0356 - val_loss: 23.0318 - val_accuracy: 0.0375\n",
      "Epoch 22/100\n",
      "122500/122500 [==============================] - 178s 1ms/step - loss: 22.8427 - accuracy: 0.0345 - val_loss: 22.9489 - val_accuracy: 0.0402\n",
      "Epoch 23/100\n",
      "122500/122500 [==============================] - 178s 1ms/step - loss: 22.8083 - accuracy: 0.0350 - val_loss: 23.6347 - val_accuracy: 0.0396\n",
      "Epoch 24/100\n",
      "122500/122500 [==============================] - 178s 1ms/step - loss: 22.8116 - accuracy: 0.0355 - val_loss: 22.3827 - val_accuracy: 0.0348\n",
      "Epoch 25/100\n",
      "122500/122500 [==============================] - 196s 2ms/step - loss: 22.7219 - accuracy: 0.0347 - val_loss: 22.0010 - val_accuracy: 0.0337\n",
      "Epoch 26/100\n",
      "122500/122500 [==============================] - 189s 2ms/step - loss: 22.7486 - accuracy: 0.0358 - val_loss: 22.0073 - val_accuracy: 0.0421\n",
      "Epoch 27/100\n",
      "122500/122500 [==============================] - 190s 2ms/step - loss: 22.7517 - accuracy: 0.0392 - val_loss: 22.9349 - val_accuracy: 0.0430\n",
      "Epoch 28/100\n",
      "122500/122500 [==============================] - 190s 2ms/step - loss: 22.5580 - accuracy: 0.0401 - val_loss: 22.3897 - val_accuracy: 0.0463\n",
      "Epoch 29/100\n",
      "122500/122500 [==============================] - 190s 2ms/step - loss: 22.6665 - accuracy: 0.0404 - val_loss: 22.6917 - val_accuracy: 0.0447\n",
      "Epoch 30/100\n",
      "122500/122500 [==============================] - 178s 1ms/step - loss: 22.6749 - accuracy: 0.0394 - val_loss: 21.9653 - val_accuracy: 0.0431\n",
      "Epoch 31/100\n",
      "122500/122500 [==============================] - 178s 1ms/step - loss: 22.5006 - accuracy: 0.0389 - val_loss: 23.7060 - val_accuracy: 0.0473\n",
      "Epoch 32/100\n",
      "122500/122500 [==============================] - 187s 2ms/step - loss: 22.4966 - accuracy: 0.0363 - val_loss: 22.4227 - val_accuracy: 0.0487\n",
      "Epoch 33/100\n",
      "122500/122500 [==============================] - 195s 2ms/step - loss: 22.5358 - accuracy: 0.0349 - val_loss: 24.0194 - val_accuracy: 0.0386\n",
      "Epoch 34/100\n",
      "122500/122500 [==============================] - 190s 2ms/step - loss: 22.4629 - accuracy: 0.0286 - val_loss: 22.1579 - val_accuracy: 0.0394\n",
      "Epoch 35/100\n",
      "122500/122500 [==============================] - 188s 2ms/step - loss: 22.3967 - accuracy: 0.0296 - val_loss: 22.9695 - val_accuracy: 0.0374\n"
     ]
    },
    {
     "data": {
      "text/plain": [
       "<keras.callbacks.callbacks.History at 0x7fda00655518>"
      ]
     },
     "execution_count": 11,
     "metadata": {},
     "output_type": "execute_result"
    }
   ],
   "source": [
    "model.fit(X_train, y_train, epochs=100, batch_size=32,validation_data=(X_test, y_test),shuffle=True,callbacks=callbacks)"
   ]
  },
  {
   "cell_type": "code",
   "execution_count": 12,
   "metadata": {},
   "outputs": [],
   "source": [
    "y_pred = model.predict(X_test)"
   ]
  },
  {
   "cell_type": "code",
   "execution_count": null,
   "metadata": {},
   "outputs": [],
   "source": []
  },
  {
   "cell_type": "code",
   "execution_count": null,
   "metadata": {},
   "outputs": [],
   "source": []
  },
  {
   "cell_type": "code",
   "execution_count": null,
   "metadata": {},
   "outputs": [],
   "source": [
    "result = pd.DataFrame()\n",
    "result['id'] = ids\n",
    "result[\"price\"] = y_pred\n",
    "from math import ceil\n",
    "result[\"price\"]=result[\"price\"].apply(ceil)\n",
    "\n",
    "result.to_csv('out_nn.csv',index=False)"
   ]
  },
  {
   "cell_type": "code",
   "execution_count": 13,
   "metadata": {},
   "outputs": [
    {
     "name": "stdout",
     "output_type": "stream",
     "text": [
      "RMSE: 31.905956374100075\n"
     ]
    }
   ],
   "source": [
    "print('RMSE:', np.sqrt(metrics.mean_squared_error(y_test, y_pred)))"
   ]
  },
  {
   "cell_type": "code",
   "execution_count": null,
   "metadata": {},
   "outputs": [],
   "source": [
    "y_pred[np.argmin(y_pred)]"
   ]
  },
  {
   "cell_type": "code",
   "execution_count": null,
   "metadata": {},
   "outputs": [],
   "source": [
    "np.argmin(y_pred)"
   ]
  },
  {
   "cell_type": "code",
   "execution_count": null,
   "metadata": {},
   "outputs": [],
   "source": [
    "y_pred[34363]"
   ]
  },
  {
   "cell_type": "code",
   "execution_count": null,
   "metadata": {},
   "outputs": [],
   "source": [
    "import seaborn as sns\n",
    "# sns.pairplot(num_data)"
   ]
  },
  {
   "cell_type": "code",
   "execution_count": null,
   "metadata": {},
   "outputs": [],
   "source": [
    "num_data[\"price\"]=train_data[\"price\"]\n",
    "num_data.corr()[\"price\"]"
   ]
  },
  {
   "cell_type": "code",
   "execution_count": null,
   "metadata": {},
   "outputs": [],
   "source": []
  }
 ],
 "metadata": {
  "kernelspec": {
   "display_name": "Python 3",
   "language": "python",
   "name": "python3"
  },
  "language_info": {
   "codemirror_mode": {
    "name": "ipython",
    "version": 3
   },
   "file_extension": ".py",
   "mimetype": "text/x-python",
   "name": "python",
   "nbconvert_exporter": "python",
   "pygments_lexer": "ipython3",
   "version": "3.7.3"
  }
 },
 "nbformat": 4,
 "nbformat_minor": 2
}
