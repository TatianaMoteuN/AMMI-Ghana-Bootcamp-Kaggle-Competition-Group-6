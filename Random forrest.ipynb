{
 "cells": [
  {
   "cell_type": "code",
   "execution_count": 1,
   "metadata": {},
   "outputs": [],
   "source": [
    "# Load libraries\n",
    "import pandas as pd\n",
    "from sklearn.ensemble import RandomForestRegressor # Import Decision Tree Classifier\n",
    "from xgboost import XGBClassifier\n",
    "from sklearn.model_selection import train_test_split # Import train_test_split function\n",
    "from sklearn import metrics #Import scikit-learn metrics module for accuracy calculation\n",
    "import numpy as np\n",
    "import gensim\n",
    "\n",
    "wv = gensim.models.word2vec.Word2Vec.load(\"updated_google_corpus\")\n",
    "\n",
    "TESTING_MODE = True\n",
    "\n",
    "# load dataset\n",
    "train_data = pd.read_csv(\"train.csv\")\n",
    "test_data = pd.read_csv(\"test.csv\")\n",
    "test_data = test_data.drop(\"index\",axis=1)\n",
    "data = pd.concat([train_data,test_data],sort=False)"
   ]
  },
  {
   "cell_type": "code",
   "execution_count": 2,
   "metadata": {},
   "outputs": [],
   "source": [
    "x = pd.DataFrame()\n",
    "x[\"s\"] = np.arange(10)\n",
    "x[\"f\"] = pd.Series([\"2\"])"
   ]
  },
  {
   "cell_type": "code",
   "execution_count": null,
   "metadata": {},
   "outputs": [],
   "source": []
  },
  {
   "cell_type": "code",
   "execution_count": 3,
   "metadata": {},
   "outputs": [],
   "source": [
    "def rem_na(value):\n",
    "    if str(value)==\"nan\":\n",
    "            return \"missing\"\n",
    "    return value\n",
    "       "
   ]
  },
  {
   "cell_type": "code",
   "execution_count": 4,
   "metadata": {},
   "outputs": [],
   "source": [
    "for col in train_data.columns:\n",
    "    train_data[col] = train_data[col].apply(lambda x:rem_na(x))"
   ]
  },
  {
   "cell_type": "code",
   "execution_count": null,
   "metadata": {},
   "outputs": [],
   "source": [
    "train_data[\"province\"]"
   ]
  },
  {
   "cell_type": "code",
   "execution_count": null,
   "metadata": {
    "scrolled": true
   },
   "outputs": [],
   "source": []
  },
  {
   "cell_type": "code",
   "execution_count": null,
   "metadata": {},
   "outputs": [],
   "source": [
    "len(train_data[\"title\"].unique())"
   ]
  },
  {
   "cell_type": "code",
   "execution_count": 5,
   "metadata": {},
   "outputs": [],
   "source": [
    "if TESTING_MODE:\n",
    "    d = pd.get_dummies(train_data[[\"country\",\"taster_name\"]])\n",
    "    d[\"points\"]= train_data[\"points\"]\n",
    "    d[\"id\"] = train_data['id']\n",
    "else:\n",
    "    d = pd.get_dummies(data[[\"country\",\"region_2\",\"province\",\"taster_name\",\"variety\"]])\n",
    "    d[\"points\"]= data[\"points\"]\n",
    "    d[\"id\"] = data['id']"
   ]
  },
  {
   "cell_type": "code",
   "execution_count": 6,
   "metadata": {},
   "outputs": [
    {
     "name": "stderr",
     "output_type": "stream",
     "text": [
      "/usr/lib/python3/dist-packages/ipykernel_launcher.py:4: DeprecationWarning: Call to deprecated `__getitem__` (Method will be removed in 4.0.0, use self.wv.__getitem__() instead).\n",
      "  after removing the cwd from sys.path.\n"
     ]
    },
    {
     "name": "stdout",
     "output_type": "stream",
     "text": [
      "\"word 'd'aix-en-provence' not in vocabulary\"\n",
      "\"word 'lellè' not in vocabulary\"\n",
      "\"word 'mendocino/lake' not in vocabulary\"\n",
      "\"word 'terras' not in vocabulary\"\n",
      "\"word 'pinela' not in vocabulary\"\n",
      "\"word 'county)' not in vocabulary\"\n"
     ]
    }
   ],
   "source": [
    "if TESTING_MODE:\n",
    "    for col in [\"description\",\"region_1\",'designation',\"region_2\",\"province\",\"variety\",'title']:\n",
    "        try:\n",
    "            vecs = train_data[col].apply(lambda words:sum([wv[word.lower()] for word in words.split()])*1/len(words.split()))\n",
    "        #description_vecs = train_data[\"description\"].apply(lambda words:sum([wv[word.lower()] for word in words.split()])*1/len(words.split()))\n",
    "            for i in range(300):\n",
    "                d[\"vec_\"+col+\"_dim_\"+str(i)]=vecs.apply(lambda v:v[i])\n",
    "        except Exception as e:\n",
    "            print(e)\n",
    "            for i in range(300):\n",
    "                d[\"vec_\"+col+\"_dim_\"+str(i)]= 0\n",
    "else:\n",
    "    description_vecs = data[\"description\"].apply(lambda words:sum([wv[word.lower()] for word in words.split()])*1/len(words.split()))\n",
    "    for i in range(300):\n",
    "        d[\"vec_dim_\"+str(i)] = description_vecs.apply(lambda v:v[i])"
   ]
  },
  {
   "cell_type": "code",
   "execution_count": null,
   "metadata": {},
   "outputs": [],
   "source": []
  },
  {
   "cell_type": "code",
   "execution_count": 7,
   "metadata": {},
   "outputs": [],
   "source": [
    "if TESTING_MODE:\n",
    "    X_train, X_test, y_train, y_test = train_test_split(d, train_data[\"price\"], test_size=0.3, random_state=1) # 70% training and 30% test\n",
    "else:\n",
    "    X_train,y_train,X_test, y_test = d[:175000], data[\"price\"][:175000], d[175000:], data[\"price\"][175000:]"
   ]
  },
  {
   "cell_type": "code",
   "execution_count": 9,
   "metadata": {},
   "outputs": [
    {
     "data": {
      "text/plain": [
       "2168"
      ]
     },
     "execution_count": 9,
     "metadata": {},
     "output_type": "execute_result"
    }
   ],
   "source": [
    "len(X_train.columns)"
   ]
  },
  {
   "cell_type": "code",
   "execution_count": 10,
   "metadata": {},
   "outputs": [],
   "source": [
    "X_train = X_train.drop([\"id\"],axis=1)"
   ]
  },
  {
   "cell_type": "code",
   "execution_count": 11,
   "metadata": {},
   "outputs": [
    {
     "name": "stdout",
     "output_type": "stream",
     "text": [
      "CPU times: user 1h 39min 44s, sys: 20.3 s, total: 1h 40min 4s\n",
      "Wall time: 19min 27s\n"
     ]
    }
   ],
   "source": [
    "%%time\n",
    "# Create Decision Tree classifer object\n",
    "clf = RandomForestRegressor(50,max_depth=75,min_samples_split=2,n_jobs=10)\n",
    "# Train Decision Tree Classifer\n",
    "clf = clf.fit(X_train,y_train)"
   ]
  },
  {
   "cell_type": "code",
   "execution_count": 12,
   "metadata": {},
   "outputs": [],
   "source": [
    "#Predict the response for test dataset\n",
    "ids = X_test[\"id\"]\n",
    "X_test = X_test.drop([\"id\"],axis=1)\n",
    "\n",
    "y_pred = clf.predict(X_test)"
   ]
  },
  {
   "cell_type": "code",
   "execution_count": 13,
   "metadata": {},
   "outputs": [
    {
     "name": "stdout",
     "output_type": "stream",
     "text": [
      "10709      9.0\n",
      "27315     28.0\n",
      "129593    38.0\n",
      "23186     17.0\n",
      "61957     18.0\n",
      "128582    22.0\n",
      "83535     20.0\n",
      "65190     13.0\n",
      "100308    28.0\n",
      "24450     16.0\n",
      "Name: price, dtype: float64 [17.1  54.94 33.56 47.92 18.14 22.54 18.76 13.72 23.42 16.82]\n"
     ]
    }
   ],
   "source": [
    "print(y_test[:10],y_pred[:10])"
   ]
  },
  {
   "cell_type": "code",
   "execution_count": 14,
   "metadata": {},
   "outputs": [
    {
     "data": {
      "text/plain": [
       "(52500,)"
      ]
     },
     "execution_count": 14,
     "metadata": {},
     "output_type": "execute_result"
    }
   ],
   "source": [
    "y_pred.shape"
   ]
  },
  {
   "cell_type": "code",
   "execution_count": null,
   "metadata": {},
   "outputs": [],
   "source": []
  },
  {
   "cell_type": "code",
   "execution_count": null,
   "metadata": {},
   "outputs": [],
   "source": [
    "result = pd.DataFrame()\n",
    "result['id'] = ids\n",
    "result[\"price\"] = y_pred\n",
    "\n",
    "from math import ceil\n",
    "result[\"price\"]=result[\"price\"].apply(ceil)\n",
    "\n",
    "result.to_csv('out_rfr_.csv',index=False)"
   ]
  },
  {
   "cell_type": "code",
   "execution_count": 15,
   "metadata": {},
   "outputs": [
    {
     "name": "stdout",
     "output_type": "stream",
     "text": [
      "Accuracy: 0.07432380952380953\n"
     ]
    }
   ],
   "source": [
    "print(\"Accuracy:\",metrics.accuracy_score(y_test, np.int64(y_pred)))\n"
   ]
  },
  {
   "cell_type": "code",
   "execution_count": 16,
   "metadata": {},
   "outputs": [
    {
     "name": "stdout",
     "output_type": "stream",
     "text": [
      "RMSE: 24.024303077231327\n"
     ]
    }
   ],
   "source": [
    "print('RMSE:', np.sqrt(metrics.mean_squared_error(y_test, y_pred)))"
   ]
  },
  {
   "cell_type": "code",
   "execution_count": null,
   "metadata": {},
   "outputs": [],
   "source": [
    "20,-  : 23.649820840960377\n",
    "50,-  : 22.99395012474037  \n",
    "100,- : 22.884203101828\n",
    "20,20 : 24.206928409441964\n",
    "20,50 : 23.654831350249047\n",
    "20,100 : 24.032463084435644\n",
    "20,75 : 23.79979766920799\n",
    "100,75 : 22.846035679936353 -> 33.87389\n",
    "10,20,10: 26.076570435580027\n",
    "10,20,2: 25.116716569846435\n",
    "10,20,20: 26.74973180661442"
   ]
  },
  {
   "cell_type": "code",
   "execution_count": null,
   "metadata": {},
   "outputs": [],
   "source": [
    "y_pred[np.argmin(y_pred)]"
   ]
  },
  {
   "cell_type": "code",
   "execution_count": null,
   "metadata": {},
   "outputs": [],
   "source": []
  }
 ],
 "metadata": {
  "kernelspec": {
   "display_name": "Python 3",
   "language": "python",
   "name": "python3"
  },
  "language_info": {
   "codemirror_mode": {
    "name": "ipython",
    "version": 3
   },
   "file_extension": ".py",
   "mimetype": "text/x-python",
   "name": "python",
   "nbconvert_exporter": "python",
   "pygments_lexer": "ipython3",
   "version": "3.7.3"
  }
 },
 "nbformat": 4,
 "nbformat_minor": 2
}
