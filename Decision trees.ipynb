{
 "cells": [
  {
   "cell_type": "code",
   "execution_count": null,
   "metadata": {},
   "outputs": [],
   "source": [
    "# Load libraries\n",
    "import pandas as pd\n",
    "from sklearn.tree import DecisionTreeRegressor # Import Decision Tree Classifier\n",
    "from sklearn.model_selection import train_test_split # Import train_test_split function\n",
    "import numpy as np\n",
    "from scipy.sparse import hstack\n",
    "import utils\n",
    "\n",
    "TESTING_MODE = False"
   ]
  },
  {
   "cell_type": "code",
   "execution_count": null,
   "metadata": {},
   "outputs": [],
   "source": [
    "data = utils.load_data(\"./data/train.csv\",is_train= TESTING_MODE)\n",
    "print(\"Loaded {0} examples with {1} columns\".format(data.shape[0],data.shape[1]))"
   ]
  },
  {
   "cell_type": "code",
   "execution_count": null,
   "metadata": {},
   "outputs": [],
   "source": [
    "data.describe()"
   ]
  },
  {
   "cell_type": "code",
   "execution_count": null,
   "metadata": {},
   "outputs": [],
   "source": [
    "data.info()"
   ]
  },
  {
   "cell_type": "code",
   "execution_count": null,
   "metadata": {},
   "outputs": [],
   "source": [
    "one_hot_encoding = utils.one_hot_encoding(data,[\"country\",\"region_1\",\"region_2\",\"province\",\"taster_name\",\"variety\"])\n"
   ]
  },
  {
   "cell_type": "code",
   "execution_count": null,
   "metadata": {},
   "outputs": [],
   "source": [
    "X = hstack([one_hot_encoding,data[[\"points\"]]]).tocsr()\n",
    "y = data[\"price\"]\n",
    "if not TESTING_MODE:\n",
    "    X_test = X[175000:]\n",
    "    y_test = y[175000:]\n",
    "    X = X[:175000]\n",
    "    y = y[:175000]"
   ]
  },
  {
   "cell_type": "code",
   "execution_count": null,
   "metadata": {},
   "outputs": [],
   "source": [
    "# convert to <if True> if you want to search for the parameters\n",
    "if False:\n",
    "    params = {\n",
    "        \"max_depth\" : [2, 5, 10, 15, 20, 25, 30, 50, 75, 100],\n",
    "        \"min_samples_split\" : np.linspace(0.1, 1.0, 5, endpoint=True),\n",
    "        \"min_samples_leaf\" : np.linspace(0.1, .5, 5, endpoint=True),\n",
    "        \"max_features\" : np.linspace(0.1, 1.0, 5, endpoint=True),\n",
    "    }\n",
    "\n",
    "    dtr = DecisionTreeRegressor()\n",
    "    grid_search = utils.train_grid_search(dtr, X, y, params)\n",
    "    print(grid_search.best_estimator_)"
   ]
  },
  {
   "cell_type": "code",
   "execution_count": 17,
   "metadata": {},
   "outputs": [
    {
     "name": "stdout",
     "output_type": "stream",
     "text": [
      "Training fold number :  0\n",
      "RMSE for fold number 0 = 34.88727616095883\n",
      "Training fold number :  1\n",
      "RMSE for fold number 1 = 36.014820927069955\n",
      "Training fold number :  2\n",
      "RMSE for fold number 2 = 32.720803699891135\n",
      "Training fold number :  3\n",
      "RMSE for fold number 3 = 34.22039522505831\n",
      "Training fold number :  4\n",
      "RMSE for fold number 4 = 32.37798683998908\n"
     ]
    }
   ],
   "source": [
    "dtr = DecisionTreeRegressor(max_depth=5, max_features=1.0,\n",
    "           max_leaf_nodes=None, min_impurity_decrease=0.0,\n",
    "           min_impurity_split=None, min_samples_leaf=0.1,\n",
    "           min_samples_split=0.1, min_weight_fraction_leaf=0.0,\n",
    "           presort=False, random_state=None, splitter='best')\n",
    "\n",
    "dtr, scores = utils.train_kfold(dtr, X, y)"
   ]
  },
  {
   "cell_type": "code",
   "execution_count": null,
   "metadata": {},
   "outputs": [],
   "source": [
    "if not TESTING_MODE:\n",
    "    ids = data[\"id\"][175000:]\n",
    "    y_pred = dtr.predict(X_test)\n",
    "    result = pd.DataFrame()\n",
    "    result['id'] = ids\n",
    "    result[\"price\"] = y_pred\n",
    "    result.to_csv(\"out_DT.csv\")"
   ]
  },
  {
   "cell_type": "code",
   "execution_count": null,
   "metadata": {},
   "outputs": [],
   "source": []
  }
 ],
 "metadata": {
  "kernelspec": {
   "display_name": "Python 3",
   "language": "python",
   "name": "python3"
  },
  "language_info": {
   "codemirror_mode": {
    "name": "ipython",
    "version": 3
   },
   "file_extension": ".py",
   "mimetype": "text/x-python",
   "name": "python",
   "nbconvert_exporter": "python",
   "pygments_lexer": "ipython3",
   "version": "3.7.3"
  }
 },
 "nbformat": 4,
 "nbformat_minor": 2
}
