{
 "cells": [
  {
   "cell_type": "code",
   "execution_count": 53,
   "metadata": {},
   "outputs": [],
   "source": [
    "# Load libraries\n",
    "import pandas as pd\n",
    "from sklearn.linear_model import LinearRegression\n",
    "from sklearn.model_selection import train_test_split # Import train_test_split function\n",
    "import numpy as np\n",
    "import gensim\n",
    "from scipy.sparse import hstack\n",
    "import utils\n",
    "\n",
    "\n",
    "w2v_model = gensim.models.word2vec.Word2Vec.load(\"data/updated_google_corpus\")"
   ]
  },
  {
   "cell_type": "code",
   "execution_count": 54,
   "metadata": {},
   "outputs": [],
   "source": [
    "TESTING_MODE = False\n",
    "data = utils.load_data(\"./data/train.csv\",is_train= TESTING_MODE)\n",
    "print(\"Loaded {0} examples with {1} columns\".format(data.shape[0],data.shape[1]))"
   ]
  },
  {
   "cell_type": "code",
   "execution_count": null,
   "metadata": {},
   "outputs": [],
   "source": [
    "data.describe()"
   ]
  },
  {
   "cell_type": "code",
   "execution_count": null,
   "metadata": {},
   "outputs": [],
   "source": [
    "data.info()"
   ]
  },
  {
   "cell_type": "code",
   "execution_count": 55,
   "metadata": {},
   "outputs": [],
   "source": [
    "def rem_na(value):\n",
    "    if str(value)==\"nan\":\n",
    "            return \"missing\"\n",
    "    return value\n",
    "       "
   ]
  },
  {
   "cell_type": "code",
   "execution_count": 56,
   "metadata": {},
   "outputs": [],
   "source": [
    "if TESTING_MODE:\n",
    "    for col in train_data.columns:\n",
    "        train_data[col] = train_data[col].apply(lambda x:rem_na(x))\n",
    "else:\n",
    "    for col in data.columns:\n",
    "        data[col] = data[col].apply(lambda x:rem_na(x))"
   ]
  },
  {
   "cell_type": "code",
   "execution_count": 57,
   "metadata": {},
   "outputs": [],
   "source": [
    "if TESTING_MODE:\n",
    "    d = pd.get_dummies(train_data[[\"country\",\"taster_name\",\"region_2\",\"province\",\"variety\"]])\n",
    "    d[\"points\"]= train_data[\"points\"]\n",
    "else:\n",
    "    d = pd.get_dummies(data[[\"country\",\"taster_name\",\"region_2\",\"province\",\"variety\"]])\n",
    "    d[\"points\"]= data[\"points\"]\n"
   ]
  },
  {
   "cell_type": "code",
   "execution_count": 58,
   "metadata": {},
   "outputs": [],
   "source": [
    "from sklearn.feature_extraction.text import TfidfVectorizer\n",
    "\n",
    "cv_transforms = []\n",
    "if TESTING_MODE:\n",
    "    for col in [\"title\",\"region_1\",\"designation\"]:\n",
    "        cv = TfidfVectorizer()\n",
    "        cv.fit(train_data[col].apply(lambda x:x.lower()))\n",
    "        x = cv.transform(train_data[col].apply(lambda x:x.lower()))\n",
    "        cv_transforms.append(x)\n",
    "\n",
    "else:\n",
    "    for col in [\"title\",\"region_1\",\"designation\"]:\n",
    "        cv = TfidfTransformer()\n",
    "        x=cv.fit_transform(data[col].apply(lambda x:x.lower()))\n",
    "        cv_transforms.append(x)"
   ]
  },
  {
   "cell_type": "code",
   "execution_count": 59,
   "metadata": {},
   "outputs": [],
   "source": [
    "def vectorise(sentance):\n",
    "    vecs = []\n",
    "    for word in sentance.lower().split():\n",
    "        try:\n",
    "            vecs.append(wv[word])\n",
    "        except Exception as e:\n",
    "            print(e)\n",
    "            vecs.append(np.zeros((300,1)))\n",
    "    return sum(vecs)"
   ]
  },
  {
   "cell_type": "code",
   "execution_count": 9,
   "metadata": {},
   "outputs": [
    {
     "name": "stderr",
     "output_type": "stream",
     "text": [
      "Using TensorFlow backend.\n",
      "/usr/lib/python3/dist-packages/ipykernel_launcher.py:3: UserWarning: Update your `Model` call to the Keras 2 API: `Model(inputs=Tensor(\"in..., outputs=Tensor(\"ls...)`\n",
      "  This is separate from the ipykernel package so we can avoid doing imports until\n"
     ]
    }
   ],
   "source": [
    "# from keras.models import load_model, Model\n",
    "# model = load_model(\"lstm_encoder.model\")\n",
    "# model = Model(input = model.layers[0].input, output = model.layers[2].output)"
   ]
  },
  {
   "cell_type": "code",
   "execution_count": 41,
   "metadata": {},
   "outputs": [],
   "source": [
    "# words = list(wv.wv.vocab.keys())\n",
    "# word_to_index, index_to_word = dict(),dict()\n",
    "# for i,word in enumerate(words):\n",
    "#     word_to_index[word]=i\n",
    "#     index_to_word[i]=word\n",
    "# print(\"vocabulary size= \",len(words),\" words\")"
   ]
  },
  {
   "cell_type": "code",
   "execution_count": 42,
   "metadata": {},
   "outputs": [],
   "source": [
    "# def sentences_to_indices(X, word_to_index, max_len):\n",
    "#     m = X.shape[0]\n",
    "#     X_indices = np.zeros((m, max_len),dtype=int)\n",
    "#     for i in range(m):\n",
    "#         sentence_words = X[i].split()\n",
    "#         j = 0\n",
    "#         for w in sentence_words:\n",
    "#             if w in word_to_index:\n",
    "#                 X_indices[i, j] = word_to_index[w]\n",
    "#             j = j+1\n",
    "#     return X_indices"
   ]
  },
  {
   "cell_type": "code",
   "execution_count": 62,
   "metadata": {},
   "outputs": [],
   "source": [
    "# if TESTING_MODE:\n",
    "#     indices = sentences_to_indices(train_data[\"description\"].apply(lambda x:x.lower()),word_to_index, MAX_LENGTH)\n",
    "# else:\n",
    "#     indices = sentences_to_indices(data[\"description\"].apply(lambda x:x.lower()),word_to_index, MAX_LENGTH)"
   ]
  },
  {
   "cell_type": "code",
   "execution_count": 63,
   "metadata": {},
   "outputs": [
    {
     "name": "stderr",
     "output_type": "stream",
     "text": [
      "/usr/lib/python3/dist-packages/ipykernel_launcher.py:5: DeprecationWarning: Call to deprecated `__getitem__` (Method will be removed in 4.0.0, use self.wv.__getitem__() instead).\n",
      "  \"\"\"\n"
     ]
    }
   ],
   "source": [
    "if TESTING_MODE:\n",
    "    for col in [\"description\"]:\n",
    "        vecs = train_data[col].apply(lambda words:vectorise(words))\n",
    "        for i in range(300):\n",
    "            d[\"vec_\"+col+\"_dim_\"+str(i)]=vecs.apply(lambda v:v[i])\n",
    "else:\n",
    "    for col in [\"description\"]:\n",
    "        vecs = data[col].apply(lambda words:vectorise(words))\n",
    "        for i in range(300):\n",
    "            d[\"vec_\"+col+\"_dim_\"+str(i)]=vecs.apply(lambda v:v[i])"
   ]
  },
  {
   "cell_type": "code",
   "execution_count": 64,
   "metadata": {},
   "outputs": [
    {
     "data": {
      "text/plain": [
       "(175000, 1562)"
      ]
     },
     "execution_count": 64,
     "metadata": {},
     "output_type": "execute_result"
    }
   ],
   "source": [
    "d.shape"
   ]
  },
  {
   "cell_type": "code",
   "execution_count": 15,
   "metadata": {},
   "outputs": [],
   "source": [
    "# description_vecs = model.predict(indices)\n"
   ]
  },
  {
   "cell_type": "code",
   "execution_count": 19,
   "metadata": {},
   "outputs": [],
   "source": [
    "# if TESTING_MODE:\n",
    "#     np.save(\"description_train.ndarray\",description_vecs)\n",
    "# else:\n",
    "#     np.save(\"description_full.ndarray\",description_vecs)"
   ]
  },
  {
   "cell_type": "code",
   "execution_count": null,
   "metadata": {},
   "outputs": [],
   "source": [
    "# model.predict()"
   ]
  },
  {
   "cell_type": "code",
   "execution_count": 65,
   "metadata": {},
   "outputs": [],
   "source": [
    "if TESTING_MODE:\n",
    "    X_train, X_test, y_train, y_test = train_test_split(hstack([d]+cv_transforms), train_data[\"price\"], test_size=0.3, random_state=1) # 70% training and 30% test\n",
    "else:\n",
    "    X_train, X_test, y_train, y_test = train_test_split(hstack([d]+cv_transforms), data[\"price\"], train_size=175000, shuffle=False) # 70% training and 30% test\n"
   ]
  },
  {
   "cell_type": "code",
   "execution_count": 66,
   "metadata": {},
   "outputs": [
    {
     "data": {
      "text/plain": [
       "(122500, 54253)"
      ]
     },
     "execution_count": 66,
     "metadata": {},
     "output_type": "execute_result"
    }
   ],
   "source": [
    "X_train.shape"
   ]
  },
  {
   "cell_type": "code",
   "execution_count": 95,
   "metadata": {},
   "outputs": [
    {
     "data": {
      "text/plain": [
       "array([0, 1, 2, 3, 4])"
      ]
     },
     "execution_count": 95,
     "metadata": {},
     "output_type": "execute_result"
    }
   ],
   "source": [
    "f = np.arange(10)\n",
    "f[:5]"
   ]
  },
  {
   "cell_type": "code",
   "execution_count": null,
   "metadata": {},
   "outputs": [
    {
     "name": "stdout",
     "output_type": "stream",
     "text": [
      "Fold number  0\n"
     ]
    },
    {
     "name": "stderr",
     "output_type": "stream",
     "text": [
      "[Parallel(n_jobs=8)]: Using backend ThreadingBackend with 8 concurrent workers.\n"
     ]
    }
   ],
   "source": [
    "from numpy import array\n",
    "from sklearn.model_selection import KFold\n",
    "# data sample\n",
    "# prepare cross validation\n",
    "kfold = KFold(5, True, 1)\n",
    "# enumerate splits\n",
    "\n",
    "clf = RandomForestRegressor(25,max_depth=50,min_samples_split=2,n_jobs=8,verbose=1)\n",
    "scores = []\n",
    "    \n",
    "stack = hstack([d]+cv_transforms)\n",
    "\n",
    "dir(stack)\n",
    "stack = stack.tocsr()\n",
    "\n",
    "c=0\n",
    "for train, test in kfold.split(stack):\n",
    "    print(\"Fold number \",c)\n",
    "    c+=1\n",
    "    X_train, X_test, y_train, y_test = stack[train], stack[test], train_data[\"price\"][train], train_data[\"price\"][test]\n",
    "    clf = clf.fit(X_train,y_train)\n",
    "    y_pred = clf.predict(X_test)\n",
    "    scores.append([np.sqrt(metrics.mean_squared_error(y_test, y_pred)),metrics.accuracy_score(y_test, np.int64(y_pred))])"
   ]
  },
  {
   "cell_type": "code",
   "execution_count": 50,
   "metadata": {},
   "outputs": [
    {
     "name": "stderr",
     "output_type": "stream",
     "text": [
      "[Parallel(n_jobs=8)]: Using backend ThreadingBackend with 8 concurrent workers.\n"
     ]
    },
    {
     "name": "stdout",
     "output_type": "stream",
     "text": [
      "CPU times: user 4h 1min 3s, sys: 8.05 s, total: 4h 1min 11s\n",
      "Wall time: 35min 8s\n"
     ]
    },
    {
     "name": "stderr",
     "output_type": "stream",
     "text": [
      "[Parallel(n_jobs=8)]: Done  25 out of  25 | elapsed: 35.1min finished\n"
     ]
    }
   ],
   "source": [
    "# %%time\n",
    "# # Create Decision Tree classifer object\n",
    "# clf = RandomForestRegressor(25,max_depth=50,min_samples_split=2,n_jobs=8,verbose=1)\n",
    "# # Train Decision Tree Classifer\n",
    "# clf = clf.fit(X_train,y_train)"
   ]
  },
  {
   "cell_type": "code",
   "execution_count": 51,
   "metadata": {},
   "outputs": [
    {
     "name": "stderr",
     "output_type": "stream",
     "text": [
      "[Parallel(n_jobs=8)]: Using backend ThreadingBackend with 8 concurrent workers.\n",
      "[Parallel(n_jobs=8)]: Done  25 out of  25 | elapsed:    0.3s finished\n"
     ]
    }
   ],
   "source": [
    "#Predict the response for test dataset\n",
    "#ids = X_test[\"id\"]\n",
    "#X_test = X_test.drop([\"id\"],axis=1)\n",
    "\n",
    "y_pred = clf.predict(X_test)"
   ]
  },
  {
   "cell_type": "code",
   "execution_count": null,
   "metadata": {},
   "outputs": [],
   "source": [
    "result = pd.DataFrame()\n",
    "result['id'] = data[\"id\"][175000:]\n",
    "result[\"price\"] = y_pred\n",
    "\n",
    "from math import ceil\n",
    "result[\"price\"]=result[\"price\"].apply(ceil)\n",
    " \n",
    "result.to_csv('out_rf_cv.csv',index=False)"
   ]
  },
  {
   "cell_type": "code",
   "execution_count": 52,
   "metadata": {},
   "outputs": [
    {
     "name": "stdout",
     "output_type": "stream",
     "text": [
      "Accuracy: 0.08036190476190476\n",
      "RMSE: 25.633186894349546\n"
     ]
    }
   ],
   "source": [
    "print(\"Accuracy:\",metrics.accuracy_score(y_test, np.int64(y_pred)))\n",
    "print('RMSE:', np.sqrt(metrics.mean_squared_error(y_test, y_pred)))"
   ]
  },
  {
   "cell_type": "code",
   "execution_count": null,
   "metadata": {},
   "outputs": [],
   "source": [
    "100,75: 21.2\n",
    "50,57 : 21.09"
   ]
  },
  {
   "cell_type": "code",
   "execution_count": null,
   "metadata": {},
   "outputs": [],
   "source": [
    "y_pred[np.argmin(y_pred)]"
   ]
  },
  {
   "cell_type": "code",
   "execution_count": null,
   "metadata": {},
   "outputs": [],
   "source": [
    "from sklearn.externals import joblib\n",
    "# Output a pickle file for the model\n",
    "joblib.dump(clf, 'random_forest_with_count_vectorizer.pkl') "
   ]
  },
  {
   "cell_type": "code",
   "execution_count": null,
   "metadata": {},
   "outputs": [],
   "source": []
  }
 ],
 "metadata": {
  "kernelspec": {
   "display_name": "Python 3",
   "language": "python",
   "name": "python3"
  },
  "language_info": {
   "codemirror_mode": {
    "name": "ipython",
    "version": 3
   },
   "file_extension": ".py",
   "mimetype": "text/x-python",
   "name": "python",
   "nbconvert_exporter": "python",
   "pygments_lexer": "ipython3",
   "version": "3.7.3"
  }
 },
 "nbformat": 4,
 "nbformat_minor": 2
}
